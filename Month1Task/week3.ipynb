{
 "cells": [
  {
   "cell_type": "code",
   "execution_count": 1,
   "id": "94e2ad0d",
   "metadata": {},
   "outputs": [],
   "source": [
    "# 1. Importing Required Libraries\n",
    "import numpy as np\n",
    "import pandas as pd\n"
   ]
  },
  {
   "cell_type": "code",
   "execution_count": 2,
   "id": "14d52fd7",
   "metadata": {},
   "outputs": [
    {
     "name": "stdout",
     "output_type": "stream",
     "text": [
      "Array 1: [1 2 3 4 5]\n",
      "Array 2: [10 20 30 40 50]\n",
      "Sum: [11 22 33 44 55]\n",
      "Product: [ 10  40  90 160 250]\n",
      "Dot product: 550\n",
      "Shape of arr1: (5,)\n",
      "Data type of arr2: int32\n"
     ]
    }
   ],
   "source": [
    "# 2. Creating and Exploring NumPy Arrays\n",
    "arr1 = np.array([1, 2, 3, 4, 5])\n",
    "arr2 = np.array([10, 20, 30, 40, 50])\n",
    "\n",
    "print(\"Array 1:\", arr1)\n",
    "print(\"Array 2:\", arr2)\n",
    "\n",
    "# Sum, product, dot product\n",
    "print(\"Sum:\", arr1 + arr2)\n",
    "print(\"Product:\", arr1 * arr2)\n",
    "print(\"Dot product:\", np.dot(arr1, arr2))\n",
    "\n",
    "# Array shape and data type\n",
    "print(\"Shape of arr1:\", arr1.shape)\n",
    "print(\"Data type of arr2:\", arr2.dtype)\n"
   ]
  },
  {
   "cell_type": "code",
   "execution_count": 3,
   "id": "9c0ade8a",
   "metadata": {},
   "outputs": [
    {
     "name": "stdout",
     "output_type": "stream",
     "text": [
      "Matrix:\n",
      " [[1 2 3]\n",
      " [4 5 6]]\n",
      "Vector: [10 20 30]\n",
      "Broadcasted sum:\n",
      " [[11 22 33]\n",
      " [14 25 36]]\n"
     ]
    }
   ],
   "source": [
    "# 3. NumPy Broadcasting Example\n",
    "matrix = np.array([[1, 2, 3], [4, 5, 6]])\n",
    "vector = np.array([10, 20, 30])\n",
    "\n",
    "# Adding vector to each row of matrix using broadcasting\n",
    "broadcasted_sum = matrix + vector\n",
    "\n",
    "print(\"Matrix:\\n\", matrix)\n",
    "print(\"Vector:\", vector)\n",
    "print(\"Broadcasted sum:\\n\", broadcasted_sum)\n"
   ]
  },
  {
   "cell_type": "code",
   "execution_count": 4,
   "id": "607a034d",
   "metadata": {},
   "outputs": [
    {
     "name": "stdout",
     "output_type": "stream",
     "text": [
      "Original DataFrame:\n",
      "    EmployeeID     Name   Age Department   Salary JoiningDate\n",
      "0         101    Alice  25.0         HR  50000.0  2018-03-15\n",
      "1         102      Bob  30.0         IT  60000.0  2019-07-22\n",
      "2         103  Charlie   NaN         IT  55000.0  2020-01-10\n",
      "3         104    David  45.0    Finance      NaN  2017-11-01\n",
      "4         105      Eva  28.0       None  48000.0  2021-06-19\n",
      "5         106     None  35.0         HR  52000.0  2018-09-23\n",
      "6         107    Frank  42.0         IT  61000.0  2019-12-15\n"
     ]
    }
   ],
   "source": [
    "# 4. Creating Pandas DataFrame with Sample Employee Data (including missing values)\n",
    "data = {\n",
    "    \"EmployeeID\": [101, 102, 103, 104, 105, 106, 107],\n",
    "    \"Name\": [\"Alice\", \"Bob\", \"Charlie\", \"David\", \"Eva\", None, \"Frank\"],\n",
    "    \"Age\": [25, 30, None, 45, 28, 35, 42],\n",
    "    \"Department\": [\"HR\", \"IT\", \"IT\", \"Finance\", None, \"HR\", \"IT\"],\n",
    "    \"Salary\": [50000, 60000, 55000, None, 48000, 52000, 61000],\n",
    "    \"JoiningDate\": pd.to_datetime([\n",
    "        \"2018-03-15\", \"2019-07-22\", \"2020-01-10\", \n",
    "        \"2017-11-01\", \"2021-06-19\", \"2018-09-23\", \"2019-12-15\"\n",
    "    ])\n",
    "}\n",
    "\n",
    "df = pd.DataFrame(data)\n",
    "print(\"Original DataFrame:\\n\", df)\n"
   ]
  },
  {
   "cell_type": "code",
   "execution_count": 5,
   "id": "d410bec3",
   "metadata": {},
   "outputs": [
    {
     "name": "stdout",
     "output_type": "stream",
     "text": [
      "\n",
      "DataFrame after cleaning missing values:\n",
      "    EmployeeID     Name   Age Department   Salary JoiningDate\n",
      "0         101    Alice  25.0         HR  50000.0  2018-03-15\n",
      "1         102      Bob  30.0         IT  60000.0  2019-07-22\n",
      "2         103  Charlie  35.5         IT  55000.0  2020-01-10\n",
      "3         104    David  45.0    Finance  56500.0  2017-11-01\n",
      "6         107    Frank  42.0         IT  61000.0  2019-12-15\n"
     ]
    },
    {
     "name": "stderr",
     "output_type": "stream",
     "text": [
      "C:\\Users\\nihal\\AppData\\Local\\Temp\\ipykernel_2852\\579984361.py:7: SettingWithCopyWarning: \n",
      "A value is trying to be set on a copy of a slice from a DataFrame.\n",
      "Try using .loc[row_indexer,col_indexer] = value instead\n",
      "\n",
      "See the caveats in the documentation: https://pandas.pydata.org/pandas-docs/stable/user_guide/indexing.html#returning-a-view-versus-a-copy\n",
      "  df_clean[\"Age\"] = df_clean[\"Age\"].fillna(df_clean[\"Age\"].mean())\n",
      "C:\\Users\\nihal\\AppData\\Local\\Temp\\ipykernel_2852\\579984361.py:8: SettingWithCopyWarning: \n",
      "A value is trying to be set on a copy of a slice from a DataFrame.\n",
      "Try using .loc[row_indexer,col_indexer] = value instead\n",
      "\n",
      "See the caveats in the documentation: https://pandas.pydata.org/pandas-docs/stable/user_guide/indexing.html#returning-a-view-versus-a-copy\n",
      "  df_clean[\"Salary\"] = df_clean[\"Salary\"].fillna(df_clean[\"Salary\"].mean())\n"
     ]
    }
   ],
   "source": [
    "# 5. Data Cleaning - Handling Missing Values\n",
    "\n",
    "# Remove rows where Name or Department is missing (critical info)\n",
    "df_clean = df.dropna(subset=[\"Name\", \"Department\"])\n",
    "\n",
    "# Fill missing Age and Salary with mean values of respective columns\n",
    "df_clean[\"Age\"] = df_clean[\"Age\"].fillna(df_clean[\"Age\"].mean())\n",
    "df_clean[\"Salary\"] = df_clean[\"Salary\"].fillna(df_clean[\"Salary\"].mean())\n",
    "\n",
    "print(\"\\nDataFrame after cleaning missing values:\\n\", df_clean)\n"
   ]
  },
  {
   "cell_type": "code",
   "execution_count": 6,
   "id": "47d143e3",
   "metadata": {},
   "outputs": [
    {
     "name": "stdout",
     "output_type": "stream",
     "text": [
      "\n",
      "DataFrame with duplicate row added:\n",
      "    EmployeeID     Name   Age Department   Salary JoiningDate\n",
      "0         101    Alice  25.0         HR  50000.0  2018-03-15\n",
      "1         102      Bob  30.0         IT  60000.0  2019-07-22\n",
      "2         103  Charlie  35.5         IT  55000.0  2020-01-10\n",
      "3         104    David  45.0    Finance  56500.0  2017-11-01\n",
      "4         107    Frank  42.0         IT  61000.0  2019-12-15\n",
      "5         101    Alice  25.0         HR  50000.0  2018-03-15\n",
      "\n",
      "DataFrame after removing duplicates:\n",
      "    EmployeeID     Name   Age Department   Salary JoiningDate\n",
      "0         101    Alice  25.0         HR  50000.0  2018-03-15\n",
      "1         102      Bob  30.0         IT  60000.0  2019-07-22\n",
      "2         103  Charlie  35.5         IT  55000.0  2020-01-10\n",
      "3         104    David  45.0    Finance  56500.0  2017-11-01\n",
      "4         107    Frank  42.0         IT  61000.0  2019-12-15\n"
     ]
    }
   ],
   "source": [
    "# 6. Detecting and Removing Duplicate Rows\n",
    "\n",
    "# Intentionally add a duplicate row for demonstration\n",
    "df_clean = pd.concat([df_clean, df_clean.iloc[0:1]], ignore_index=True)\n",
    "print(\"\\nDataFrame with duplicate row added:\\n\", df_clean)\n",
    "\n",
    "# Remove duplicate rows based on all columns\n",
    "df_clean = df_clean.drop_duplicates()\n",
    "print(\"\\nDataFrame after removing duplicates:\\n\", df_clean)\n"
   ]
  },
  {
   "cell_type": "code",
   "execution_count": 7,
   "id": "5590769d",
   "metadata": {},
   "outputs": [
    {
     "name": "stdout",
     "output_type": "stream",
     "text": [
      "\n",
      "Employees in IT Department:\n",
      "    EmployeeID     Name   Age Department   Salary JoiningDate\n",
      "1         102      Bob  30.0         IT  60000.0  2019-07-22\n",
      "2         103  Charlie  35.5         IT  55000.0  2020-01-10\n",
      "4         107    Frank  42.0         IT  61000.0  2019-12-15\n",
      "\n",
      "Employees with salary > 55000:\n",
      "    EmployeeID   Name   Age Department   Salary JoiningDate\n",
      "1         102    Bob  30.0         IT  60000.0  2019-07-22\n",
      "3         104  David  45.0    Finance  56500.0  2017-11-01\n",
      "4         107  Frank  42.0         IT  61000.0  2019-12-15\n"
     ]
    }
   ],
   "source": [
    "# 7. Advanced Indexing and Filtering\n",
    "\n",
    "# Select employees from the IT department only\n",
    "it_employees = df_clean[df_clean[\"Department\"] == \"IT\"]\n",
    "print(\"\\nEmployees in IT Department:\\n\", it_employees)\n",
    "\n",
    "# Select employees with salary greater than 55,000\n",
    "high_earners = df_clean[df_clean[\"Salary\"] > 55000]\n",
    "print(\"\\nEmployees with salary > 55000:\\n\", high_earners)\n"
   ]
  },
  {
   "cell_type": "code",
   "execution_count": 8,
   "id": "fe782aa4",
   "metadata": {},
   "outputs": [
    {
     "name": "stdout",
     "output_type": "stream",
     "text": [
      "\n",
      "DataFrame sorted by Salary (descending):\n",
      "    EmployeeID     Name   Age Department   Salary JoiningDate\n",
      "4         107    Frank  42.0         IT  61000.0  2019-12-15\n",
      "1         102      Bob  30.0         IT  60000.0  2019-07-22\n",
      "3         104    David  45.0    Finance  56500.0  2017-11-01\n",
      "2         103  Charlie  35.5         IT  55000.0  2020-01-10\n",
      "0         101    Alice  25.0         HR  50000.0  2018-03-15\n",
      "\n",
      "Selected columns (Name and Salary):\n",
      "       Name   Salary\n",
      "4    Frank  61000.0\n",
      "1      Bob  60000.0\n",
      "3    David  56500.0\n",
      "2  Charlie  55000.0\n",
      "0    Alice  50000.0\n"
     ]
    }
   ],
   "source": [
    "# 8. Sorting and Selecting Specific Columns\n",
    "\n",
    "# Sort DataFrame by Salary descending\n",
    "df_sorted = df_clean.sort_values(by=\"Salary\", ascending=False)\n",
    "print(\"\\nDataFrame sorted by Salary (descending):\\n\", df_sorted)\n",
    "\n",
    "# Select only Name and Salary columns\n",
    "name_salary = df_sorted[[\"Name\", \"Salary\"]]\n",
    "print(\"\\nSelected columns (Name and Salary):\\n\", name_salary)\n"
   ]
  },
  {
   "cell_type": "code",
   "execution_count": 9,
   "id": "cd6b0971",
   "metadata": {},
   "outputs": [
    {
     "name": "stdout",
     "output_type": "stream",
     "text": [
      "\n",
      "Average Salary by Department:\n",
      "   Department        Salary\n",
      "0    Finance  56500.000000\n",
      "1         HR  50000.000000\n",
      "2         IT  58666.666667\n",
      "\n",
      "Department-wise Employee Count and Average Age:\n",
      "             EmployeeCount  AverageAge\n",
      "Department                           \n",
      "Finance                 1   45.000000\n",
      "HR                      1   25.000000\n",
      "IT                      3   35.833333\n"
     ]
    }
   ],
   "source": [
    "# 9. Grouping Data for Aggregation\n",
    "\n",
    "# Calculate average salary by Department\n",
    "avg_salary_dept = df_clean.groupby(\"Department\")[\"Salary\"].mean().reset_index()\n",
    "print(\"\\nAverage Salary by Department:\\n\", avg_salary_dept)\n",
    "\n",
    "# Calculate count and average age per department\n",
    "dept_stats = df_clean.groupby(\"Department\").agg({\n",
    "    \"EmployeeID\": \"count\",\n",
    "    \"Age\": \"mean\"\n",
    "}).rename(columns={\"EmployeeID\": \"EmployeeCount\", \"Age\": \"AverageAge\"})\n",
    "print(\"\\nDepartment-wise Employee Count and Average Age:\\n\", dept_stats)\n"
   ]
  },
  {
   "cell_type": "code",
   "execution_count": 10,
   "id": "21f34702",
   "metadata": {},
   "outputs": [
    {
     "name": "stdout",
     "output_type": "stream",
     "text": [
      "\n",
      "DataFrame with new 'AgeGroup' column:\n",
      "    EmployeeID     Name   Age Department   Salary JoiningDate AgeGroup\n",
      "0         101    Alice  25.0         HR  50000.0  2018-03-15    Young\n",
      "1         102      Bob  30.0         IT  60000.0  2019-07-22  Mid-age\n",
      "2         103  Charlie  35.5         IT  55000.0  2020-01-10  Mid-age\n",
      "3         104    David  45.0    Finance  56500.0  2017-11-01   Senior\n",
      "4         107    Frank  42.0         IT  61000.0  2019-12-15   Senior\n"
     ]
    }
   ],
   "source": [
    "# 10. Adding New Columns with Apply Function\n",
    "\n",
    "# Define a function to categorize employees based on age\n",
    "def categorize_age(age):\n",
    "    if age < 30:\n",
    "        return \"Young\"\n",
    "    elif age < 40:\n",
    "        return \"Mid-age\"\n",
    "    else:\n",
    "        return \"Senior\"\n",
    "\n",
    "# Apply the function to create new column 'AgeGroup'\n",
    "df_clean[\"AgeGroup\"] = df_clean[\"Age\"].apply(categorize_age)\n",
    "print(\"\\nDataFrame with new 'AgeGroup' column:\\n\", df_clean)\n"
   ]
  },
  {
   "cell_type": "code",
   "execution_count": 11,
   "id": "9733c725",
   "metadata": {},
   "outputs": [
    {
     "name": "stdout",
     "output_type": "stream",
     "text": [
      "\n",
      "Average Salary by AgeGroup:\n",
      "   AgeGroup   Salary\n",
      "0  Mid-age  57500.0\n",
      "1   Senior  58750.0\n",
      "2    Young  50000.0\n"
     ]
    }
   ],
   "source": [
    "# 11. Aggregating by New AgeGroup Column\n",
    "\n",
    "# Calculate average salary by AgeGroup\n",
    "avg_salary_agegroup = df_clean.groupby(\"AgeGroup\")[\"Salary\"].mean().reset_index()\n",
    "print(\"\\nAverage Salary by AgeGroup:\\n\", avg_salary_agegroup)\n"
   ]
  },
  {
   "cell_type": "code",
   "execution_count": 12,
   "id": "f9390a66",
   "metadata": {},
   "outputs": [
    {
     "name": "stdout",
     "output_type": "stream",
     "text": [
      "\n",
      "Employees who joined after 2019-01-01:\n",
      "    EmployeeID     Name   Age Department   Salary JoiningDate AgeGroup\n",
      "1         102      Bob  30.0         IT  60000.0  2019-07-22  Mid-age\n",
      "2         103  Charlie  35.5         IT  55000.0  2020-01-10  Mid-age\n",
      "4         107    Frank  42.0         IT  61000.0  2019-12-15   Senior\n"
     ]
    }
   ],
   "source": [
    "# 12. Handling Date Columns and Filtering by Date\n",
    "\n",
    "# Filter employees who joined after 2019-01-01\n",
    "recent_joins = df_clean[df_clean[\"JoiningDate\"] > \"2019-01-01\"]\n",
    "print(\"\\nEmployees who joined after 2019-01-01:\\n\", recent_joins)\n"
   ]
  }
 ],
 "metadata": {
  "kernelspec": {
   "display_name": "Python 3",
   "language": "python",
   "name": "python3"
  },
  "language_info": {
   "codemirror_mode": {
    "name": "ipython",
    "version": 3
   },
   "file_extension": ".py",
   "mimetype": "text/x-python",
   "name": "python",
   "nbconvert_exporter": "python",
   "pygments_lexer": "ipython3",
   "version": "3.12.2"
  }
 },
 "nbformat": 4,
 "nbformat_minor": 5
}
