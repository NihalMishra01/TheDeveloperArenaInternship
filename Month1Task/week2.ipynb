{
 "cells": [
  {
   "cell_type": "code",
   "execution_count": 2,
   "id": "43d5feb1",
   "metadata": {},
   "outputs": [
    {
     "name": "stdout",
     "output_type": "stream",
     "text": [
      "Fruits List: ['apple', 'mango', 'orange']\n",
      "First Fruit: apple\n"
     ]
    }
   ],
   "source": [
    "# List Operations\n",
    "fruits = [\"apple\", \"banana\", \"mango\"]\n",
    "fruits.append(\"orange\")\n",
    "fruits.remove(\"banana\")\n",
    "print(\"Fruits List:\", fruits)\n",
    "print(\"First Fruit:\", fruits[0])\n"
   ]
  },
  {
   "cell_type": "code",
   "execution_count": 3,
   "id": "959c7c00",
   "metadata": {},
   "outputs": [
    {
     "name": "stdout",
     "output_type": "stream",
     "text": [
      "Screen Dimensions: (1920, 1080)\n"
     ]
    }
   ],
   "source": [
    "# Tuple Example\n",
    "dimensions = (1920, 1080)\n",
    "print(\"Screen Dimensions:\", dimensions)\n",
    "# dimensions[0] = 1280  # Uncommenting this will give an error (immutability)\n"
   ]
  },
  {
   "cell_type": "code",
   "execution_count": 4,
   "id": "1ae5058f",
   "metadata": {},
   "outputs": [
    {
     "name": "stdout",
     "output_type": "stream",
     "text": [
      "Student Info: {'name': 'Nihal', 'age': 20, 'branch': 'AI & DS'}\n",
      "Name: Nihal\n",
      "Updated Info: {'name': 'Nihal', 'age': 20, 'branch': 'AI & DS', 'year': 2}\n"
     ]
    }
   ],
   "source": [
    "# Dictionary Example\n",
    "student = {\"name\": \"Nihal\", \"age\": 20, \"branch\": \"AI & DS\"}\n",
    "print(\"Student Info:\", student)\n",
    "print(\"Name:\", student[\"name\"])\n",
    "\n",
    "# Adding new key\n",
    "student[\"year\"] = 2\n",
    "print(\"Updated Info:\", student)\n"
   ]
  },
  {
   "cell_type": "code",
   "execution_count": 5,
   "id": "f8557f87",
   "metadata": {},
   "outputs": [
    {
     "name": "stdout",
     "output_type": "stream",
     "text": [
      "Unique Colors: {'blue', 'green', 'red'}\n",
      "Updated Set: {'blue', 'green', 'red', 'yellow'}\n"
     ]
    }
   ],
   "source": [
    "# Set Example\n",
    "colors = {\"red\", \"blue\", \"green\", \"red\"}\n",
    "print(\"Unique Colors:\", colors)  # 'red' won't repeat\n",
    "colors.add(\"yellow\")\n",
    "print(\"Updated Set:\", colors)\n"
   ]
  },
  {
   "cell_type": "code",
   "execution_count": 6,
   "id": "0c1d7e1b",
   "metadata": {},
   "outputs": [
    {
     "name": "stdout",
     "output_type": "stream",
     "text": [
      "Original: [1, 2, 3, 4, 5]\n",
      "Squares: [1, 4, 9, 16, 25]\n",
      "Even Squares: [4, 16]\n"
     ]
    }
   ],
   "source": [
    "# List Comprehension and Sum of Squares\n",
    "numbers = [1, 2, 3, 4, 5]\n",
    "squares = [x**2 for x in numbers]\n",
    "even_squares = [x for x in squares if x % 2 == 0]\n",
    "\n",
    "print(\"Original:\", numbers)\n",
    "print(\"Squares:\", squares)\n",
    "print(\"Even Squares:\", even_squares)\n"
   ]
  },
  {
   "cell_type": "code",
   "execution_count": 7,
   "id": "fa3c5bbc",
   "metadata": {},
   "outputs": [
    {
     "name": "stdout",
     "output_type": "stream",
     "text": [
      "Original: [1, 2, 3, 4, 5]\n",
      "Doubled: [2, 4, 6, 8, 10]\n"
     ]
    }
   ],
   "source": [
    "# Lambda and map\n",
    "nums = [1, 2, 3, 4, 5]\n",
    "double = list(map(lambda x: x * 2, nums))\n",
    "print(\"Original:\", nums)\n",
    "print(\"Doubled:\", double)\n"
   ]
  },
  {
   "cell_type": "code",
   "execution_count": 8,
   "id": "8beb5320",
   "metadata": {},
   "outputs": [
    {
     "name": "stdout",
     "output_type": "stream",
     "text": [
      "Factorial of 5: 120\n"
     ]
    }
   ],
   "source": [
    "# Recursive Function to Calculate Factorial\n",
    "def factorial(n):\n",
    "    if n == 1:\n",
    "        return 1\n",
    "    return n * factorial(n - 1)\n",
    "\n",
    "print(\"Factorial of 5:\", factorial(5))\n"
   ]
  },
  {
   "cell_type": "code",
   "execution_count": 9,
   "id": "ce3fbcf8",
   "metadata": {},
   "outputs": [
    {
     "name": "stdout",
     "output_type": "stream",
     "text": [
      "Original Data: [20, 25, 20, 30, 35, 30, 40, 45, 25, 50]\n",
      "Unique Data: [35, 40, 45, 50, 20, 25, 30]\n",
      "Filtered (>30): [35, 40, 45, 50]\n"
     ]
    }
   ],
   "source": [
    "# Data Cleaning: Remove Duplicates and Filter Values\n",
    "data = [20, 25, 20, 30, 35, 30, 40, 45, 25, 50]\n",
    "\n",
    "# Remove duplicates using set\n",
    "unique_data = list(set(data))\n",
    "\n",
    "# Filter data > 30\n",
    "filtered_data = [x for x in unique_data if x > 30]\n",
    "\n",
    "print(\"Original Data:\", data)\n",
    "print(\"Unique Data:\", unique_data)\n",
    "print(\"Filtered (>30):\", filtered_data)\n"
   ]
  },
  {
   "cell_type": "code",
   "execution_count": 10,
   "id": "da182957",
   "metadata": {},
   "outputs": [
    {
     "name": "stdout",
     "output_type": "stream",
     "text": [
      "Original Data: [10, 20, 10, 30, 40, 30, 50, 20]\n",
      "Cleaned Data (duplicates removed): [10, 20, 30, 40, 50]\n"
     ]
    }
   ],
   "source": [
    "data = [10, 20, 10, 30, 40, 30, 50, 20]\n",
    "\n",
    "# Using set to remove duplicates, preserving order\n",
    "def remove_duplicates(lst):\n",
    "    seen = set()\n",
    "    result = []\n",
    "    for item in lst:\n",
    "        if item not in seen:\n",
    "            result.append(item)\n",
    "            seen.add(item)\n",
    "    return result\n",
    "\n",
    "cleaned_data = remove_duplicates(data)\n",
    "print(\"Original Data:\", data)\n",
    "print(\"Cleaned Data (duplicates removed):\", cleaned_data)\n"
   ]
  },
  {
   "cell_type": "code",
   "execution_count": 11,
   "id": "bec55105",
   "metadata": {},
   "outputs": [
    {
     "name": "stdout",
     "output_type": "stream",
     "text": [
      "Original Data: [12, -3, 7, 0, -1, 5, 10]\n",
      "Filtered Data (positive only): [12, 7, 5, 10]\n"
     ]
    }
   ],
   "source": [
    "data = [12, -3, 7, 0, -1, 5, 10]\n",
    "\n",
    "# Filter only positive values\n",
    "positive_data = [x for x in data if x > 0]\n",
    "\n",
    "print(\"Original Data:\", data)\n",
    "print(\"Filtered Data (positive only):\", positive_data)\n"
   ]
  },
  {
   "cell_type": "code",
   "execution_count": 12,
   "id": "7f946346",
   "metadata": {},
   "outputs": [
    {
     "name": "stdout",
     "output_type": "stream",
     "text": [
      "Original Names: ['Alice', '', 'Bob', 'Charlie', '', 'David']\n",
      "Cleaned Names (empty removed): ['Alice', 'Bob', 'Charlie', 'David']\n"
     ]
    }
   ],
   "source": [
    "names = [\"Alice\", \"\", \"Bob\", \"Charlie\", \"\", \"David\"]\n",
    "\n",
    "# Remove empty strings\n",
    "cleaned_names = [name for name in names if name != \"\"]\n",
    "\n",
    "print(\"Original Names:\", names)\n",
    "print(\"Cleaned Names (empty removed):\", cleaned_names)\n"
   ]
  },
  {
   "cell_type": "code",
   "execution_count": 13,
   "id": "371fda67",
   "metadata": {},
   "outputs": [
    {
     "name": "stdout",
     "output_type": "stream",
     "text": [
      "Raw Data: ['  apple ', 'banana  ', '  cherry', ' date ']\n",
      "Cleaned Data (whitespace removed): ['apple', 'banana', 'cherry', 'date']\n"
     ]
    }
   ],
   "source": [
    "raw_data = [\"  apple \", \"banana  \", \"  cherry\", \" date \"]\n",
    "\n",
    "# Strip whitespace from each string\n",
    "cleaned_data = [item.strip() for item in raw_data]\n",
    "\n",
    "print(\"Raw Data:\", raw_data)\n",
    "print(\"Cleaned Data (whitespace removed):\", cleaned_data)\n"
   ]
  },
  {
   "cell_type": "code",
   "execution_count": 14,
   "id": "74e21fcb",
   "metadata": {},
   "outputs": [
    {
     "name": "stdout",
     "output_type": "stream",
     "text": [
      "Original Data: [10, None, 20, None, 30, 40, None]\n",
      "Cleaned Data (None replaced with 0): [10, 0, 20, 0, 30, 40, 0]\n"
     ]
    }
   ],
   "source": [
    "data = [10, None, 20, None, 30, 40, None]\n",
    "\n",
    "# Replace None with 0\n",
    "cleaned_data = [x if x is not None else 0 for x in data]\n",
    "\n",
    "print(\"Original Data:\", data)\n",
    "print(\"Cleaned Data (None replaced with 0):\", cleaned_data)\n"
   ]
  },
  {
   "cell_type": "code",
   "execution_count": 15,
   "id": "143cfab2",
   "metadata": {},
   "outputs": [
    {
     "name": "stdout",
     "output_type": "stream",
     "text": [
      "Original Data: {'John': 25, 'Alice': 30, 'Bob': 19, 'Diana': 17}\n",
      "Filtered Data (age >= 20): {'John': 25, 'Alice': 30}\n"
     ]
    }
   ],
   "source": [
    "data = {\n",
    "    \"John\": 25,\n",
    "    \"Alice\": 30,\n",
    "    \"Bob\": 19,\n",
    "    \"Diana\": 17\n",
    "}\n",
    "\n",
    "# Filter entries where age is >= 20\n",
    "filtered_data = {k: v for k, v in data.items() if v >= 20}\n",
    "\n",
    "print(\"Original Data:\", data)\n",
    "print(\"Filtered Data (age >= 20):\", filtered_data)\n"
   ]
  },
  {
   "cell_type": "code",
   "execution_count": 16,
   "id": "68de1312",
   "metadata": {},
   "outputs": [
    {
     "name": "stdout",
     "output_type": "stream",
     "text": [
      "Original Data: [{'id': 1, 'name': 'John'}, {'id': 2, 'name': 'Alice'}, {'id': 1, 'name': 'John'}, {'id': 3, 'name': 'Bob'}]\n",
      "Cleaned Data (duplicates removed by id): [{'id': 1, 'name': 'John'}, {'id': 2, 'name': 'Alice'}, {'id': 3, 'name': 'Bob'}]\n"
     ]
    }
   ],
   "source": [
    "data = [\n",
    "    {\"id\": 1, \"name\": \"John\"},\n",
    "    {\"id\": 2, \"name\": \"Alice\"},\n",
    "    {\"id\": 1, \"name\": \"John\"},\n",
    "    {\"id\": 3, \"name\": \"Bob\"}\n",
    "]\n",
    "\n",
    "# Remove duplicates based on 'id'\n",
    "def remove_dict_duplicates(lst, key):\n",
    "    seen = set()\n",
    "    result = []\n",
    "    for d in lst:\n",
    "        val = d[key]\n",
    "        if val not in seen:\n",
    "            result.append(d)\n",
    "            seen.add(val)\n",
    "    return result\n",
    "\n",
    "cleaned_data = remove_dict_duplicates(data, \"id\")\n",
    "print(\"Original Data:\", data)\n",
    "print(\"Cleaned Data (duplicates removed by id):\", cleaned_data)\n"
   ]
  }
 ],
 "metadata": {
  "kernelspec": {
   "display_name": "Python 3",
   "language": "python",
   "name": "python3"
  },
  "language_info": {
   "codemirror_mode": {
    "name": "ipython",
    "version": 3
   },
   "file_extension": ".py",
   "mimetype": "text/x-python",
   "name": "python",
   "nbconvert_exporter": "python",
   "pygments_lexer": "ipython3",
   "version": "3.12.2"
  }
 },
 "nbformat": 4,
 "nbformat_minor": 5
}
