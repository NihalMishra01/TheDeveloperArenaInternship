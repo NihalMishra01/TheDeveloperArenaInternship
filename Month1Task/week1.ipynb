{
 "cells": [
  {
   "cell_type": "code",
   "execution_count": 2,
   "id": "4532a856",
   "metadata": {},
   "outputs": [
    {
     "name": "stdout",
     "output_type": "stream",
     "text": [
      "Temperature Converter\n"
     ]
    },
    {
     "name": "stdout",
     "output_type": "stream",
     "text": [
      "40.0°C is 104.00°F\n"
     ]
    }
   ],
   "source": [
    "# Temperature Converter\n",
    "def convert_temperature():\n",
    "    print(\"Temperature Converter\")\n",
    "    choice = input(\"Convert from (C/F)? \").upper()\n",
    "    temp = float(input(\"Enter the temperature value: \"))\n",
    "    \n",
    "    if choice == 'C':\n",
    "        result = (temp * 9/5) + 32\n",
    "        print(f\"{temp}°C is {result:.2f}°F\")\n",
    "    elif choice == 'F':\n",
    "        result = (temp - 32) * 5/9\n",
    "        print(f\"{temp}°F is {result:.2f}°C\")\n",
    "    else:\n",
    "        print(\"Invalid choice! Please enter C or F.\")\n",
    "\n",
    "convert_temperature()\n"
   ]
  },
  {
   "cell_type": "code",
   "execution_count": 7,
   "id": "0bfe4ade",
   "metadata": {},
   "outputs": [
    {
     "name": "stdout",
     "output_type": "stream",
     "text": [
      "Simple Calculator\n",
      "Result: 30.0\n"
     ]
    }
   ],
   "source": [
    "# Simple Calculator\n",
    "def calculator():\n",
    "    print(\"Simple Calculator\")\n",
    "    num1 = float(input(\"Enter first number: \"))\n",
    "    operator = input(\"Enter operator (+, -, *, /): \")\n",
    "    num2 = float(input(\"Enter second number: \"))\n",
    "    \n",
    "    if operator == '+':\n",
    "        print(\"Result:\", num1 + num2)\n",
    "    elif operator == '-':\n",
    "        print(\"Result:\", num1 - num2)\n",
    "    elif operator == '*':\n",
    "        print(\"Result:\", num1 * num2)\n",
    "    elif operator == '/':\n",
    "        if num2 != 0:\n",
    "            print(\"Result:\", num1 / num2)\n",
    "        else:\n",
    "            print(\"Error: Division by zero!\")\n",
    "    else:\n",
    "        print(\"Invalid operator!\")\n",
    "\n",
    "calculator()\n"
   ]
  },
  {
   "cell_type": "code",
   "execution_count": null,
   "id": "2159d538",
   "metadata": {},
   "outputs": [
    {
     "name": "stdout",
     "output_type": "stream",
     "text": [
      "Average Temperature Calculator\n"
     ]
    }
   ],
   "source": [
    "# Average Temperature Calculator\n",
    "def average_temperature():\n",
    "    print(\"Average Temperature Calculator\")\n",
    "    n = int(input(\"How many temperatures will you enter? \"))\n",
    "    total = 0\n",
    "    \n",
    "    for i in range(n):\n",
    "        temp = float(input(f\"Enter temperature {i+1}: \"))\n",
    "        total += temp\n",
    "    \n",
    "    average = total / n\n",
    "    print(f\"The average temperature is {average:.2f}°\")\n",
    "\n",
    "average_temperature()\n"
   ]
  },
  {
   "cell_type": "code",
   "execution_count": 2,
   "id": "600d29f3",
   "metadata": {},
   "outputs": [
    {
     "name": "stdout",
     "output_type": "stream",
     "text": [
      "5 is Odd.\n"
     ]
    }
   ],
   "source": [
    "# Even or Odd Checker\n",
    "number = int(input(\"Enter a number: \"))\n",
    "\n",
    "if number % 2 == 0:\n",
    "    print(f\"{number} is Even.\")\n",
    "else:\n",
    "    print(f\"{number} is Odd.\")\n"
   ]
  },
  {
   "cell_type": "code",
   "execution_count": 3,
   "id": "992eadf7",
   "metadata": {},
   "outputs": [
    {
     "name": "stdout",
     "output_type": "stream",
     "text": [
      "The number is Zero.\n"
     ]
    }
   ],
   "source": [
    "# Check if number is positive, negative or zero\n",
    "num = float(input(\"Enter a number: \"))\n",
    "\n",
    "if num > 0:\n",
    "    print(\"The number is Positive.\")\n",
    "elif num < 0:\n",
    "    print(\"The number is Negative.\")\n",
    "else:\n",
    "    print(\"The number is Zero.\")\n"
   ]
  },
  {
   "cell_type": "code",
   "execution_count": 4,
   "id": "3695d49c",
   "metadata": {},
   "outputs": [
    {
     "name": "stdout",
     "output_type": "stream",
     "text": [
      "\n",
      "Multiplication Table for 10:\n",
      "10 x 1 = 10\n",
      "10 x 2 = 20\n",
      "10 x 3 = 30\n",
      "10 x 4 = 40\n",
      "10 x 5 = 50\n",
      "10 x 6 = 60\n",
      "10 x 7 = 70\n",
      "10 x 8 = 80\n",
      "10 x 9 = 90\n",
      "10 x 10 = 100\n"
     ]
    }
   ],
   "source": [
    "# Multiplication Table\n",
    "num = int(input(\"Enter a number to print its multiplication table: \"))\n",
    "\n",
    "print(f\"\\nMultiplication Table for {num}:\")\n",
    "for i in range(1, 11):\n",
    "    print(f\"{num} x {i} = {num * i}\")\n"
   ]
  },
  {
   "cell_type": "code",
   "execution_count": 5,
   "id": "f86ec7a0",
   "metadata": {},
   "outputs": [
    {
     "name": "stdout",
     "output_type": "stream",
     "text": [
      "Sum of first 10 natural numbers is 55.\n"
     ]
    }
   ],
   "source": [
    "# Sum of N natural numbers\n",
    "n = int(input(\"Enter a number: \"))\n",
    "total = 0\n",
    "\n",
    "for i in range(1, n + 1):\n",
    "    total += i\n",
    "\n",
    "print(f\"Sum of first {n} natural numbers is {total}.\")\n"
   ]
  },
  {
   "cell_type": "code",
   "execution_count": 6,
   "id": "9aadb97d",
   "metadata": {},
   "outputs": [
    {
     "name": "stdout",
     "output_type": "stream",
     "text": [
      "Incorrect password. Try again.\n"
     ]
    }
   ],
   "source": [
    "# Basic Password Validator\n",
    "correct_password = \"admin123\"\n",
    "entered_password = input(\"Enter the password: \")\n",
    "\n",
    "if entered_password == correct_password:\n",
    "    print(\"Access granted.\")\n",
    "else:\n",
    "    print(\"Incorrect password. Try again.\")\n"
   ]
  }
 ],
 "metadata": {
  "kernelspec": {
   "display_name": "Python 3",
   "language": "python",
   "name": "python3"
  },
  "language_info": {
   "codemirror_mode": {
    "name": "ipython",
    "version": 3
   },
   "file_extension": ".py",
   "mimetype": "text/x-python",
   "name": "python",
   "nbconvert_exporter": "python",
   "pygments_lexer": "ipython3",
   "version": "3.12.2"
  }
 },
 "nbformat": 4,
 "nbformat_minor": 5
}
